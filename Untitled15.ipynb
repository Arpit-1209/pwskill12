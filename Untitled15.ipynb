{
 "cells": [
  {
   "cell_type": "markdown",
   "id": "fc9130e4-7c78-484b-9b9e-6f84cc2fbaa7",
   "metadata": {},
   "source": [
    "1. Implement a Kalman filter to predict and update the state of an object given its measurements. "
   ]
  },
  {
   "cell_type": "code",
   "execution_count": 1,
   "id": "ba54a891-0952-4d55-a80d-77dd7bc658f1",
   "metadata": {},
   "outputs": [],
   "source": [
    "import numpy as np\n",
    "\n",
    "class KalmanFilter:\n",
    "    def __init__(self, dt, state_dim, measurement_dim):\n",
    "        self.dt = dt\n",
    "        self.state_dim = state_dim\n",
    "        self.measurement_dim = measurement_dim\n",
    "        \n",
    "        # State vector\n",
    "        self.x = np.zeros((state_dim, 1))\n",
    "        \n",
    "        # State transition matrix\n",
    "        self.F = np.eye(state_dim)\n",
    "        self.F[0, 1] = dt\n",
    "        \n",
    "        # Control matrix (optional)\n",
    "        self.B = np.eye(state_dim)\n",
    "        \n",
    "        # Process covariance matrix\n",
    "        self.Q = np.eye(state_dim) * 0.01\n",
    "        \n",
    "        # Measurement matrix\n",
    "        self.H = np.zeros((measurement_dim, state_dim))\n",
    "        self.H[0, 0] = 1\n",
    "        \n",
    "        # Measurement noise covariance\n",
    "        self.R = np.eye(measurement_dim) * 0.1\n",
    "        \n",
    "        # Error covariance matrix\n",
    "        self.P = np.eye(state_dim) * 1\n",
    "\n",
    "    def predict(self, u=np.zeros((2, 1))):\n",
    "        self.x = np.dot(self.F, self.x) + np.dot(self.B, u)\n",
    "        self.P = np.dot(np.dot(self.F, self.P), self.F.T) + self.Q\n",
    "\n",
    "    def update(self, z):\n",
    "        y = z - np.dot(self.H, self.x)\n",
    "        S = np.dot(self.H, np.dot(self.P, self.H.T)) + self.R\n",
    "        K = np.dot(np.dot(self.P, self.H.T), np.linalg.inv(S))\n",
    "        self.x = self.x + np.dot(K, y)\n",
    "        self.P = self.P - np.dot(np.dot(K, self.H), self.P)\n"
   ]
  },
  {
   "cell_type": "markdown",
   "id": "66133865-fc8d-4641-9b8c-c1fa460d9cea",
   "metadata": {},
   "source": [
    "2. Write a function to normalize an image array such that pixel values are scaled between 0 and 1."
   ]
  },
  {
   "cell_type": "code",
   "execution_count": 2,
   "id": "188e3de4-b9e0-434e-bd32-1d4dd8d9539e",
   "metadata": {},
   "outputs": [],
   "source": [
    "def normalize_image(image):\n",
    "    return image / 255.0\n"
   ]
  },
  {
   "cell_type": "markdown",
   "id": "390b0fa9-165f-4a47-9644-8e9a012e4222",
   "metadata": {},
   "source": [
    "3. Create a function to generate dummy object detection data with confidence scores and bounding boxes.  \n",
    "    Filter the detections based on a confidence threshold. "
   ]
  },
  {
   "cell_type": "code",
   "execution_count": 3,
   "id": "7ab1dc4e-101f-4623-9ace-43dc57b7bf66",
   "metadata": {},
   "outputs": [],
   "source": [
    "import random\n",
    "\n",
    "def generate_dummy_detections(num_detections=10):\n",
    "    detections = []\n",
    "    for _ in range(num_detections):\n",
    "        box = [random.randint(0, 100), random.randint(0, 100), \n",
    "               random.randint(101, 200), random.randint(101, 200)]\n",
    "        confidence = random.uniform(0, 1)\n",
    "        detections.append({\"box\": box, \"confidence\": confidence})\n",
    "    return detections\n",
    "\n",
    "def filter_detections(detections, threshold=0.5):\n",
    "    return [det for det in detections if det['confidence'] >= threshold]\n",
    "\n",
    "# Example Usage\n",
    "detections = generate_dummy_detections()\n",
    "filtered_detections = filter_detections(detections, threshold=0.7)\n"
   ]
  },
  {
   "cell_type": "markdown",
   "id": "10ef8115-6bfd-431e-9fa8-fdff1153371a",
   "metadata": {},
   "source": [
    "4. Write a function that takes a list of YOLO detections and extracts a random 128-dimensional feature vector for each detection. "
   ]
  },
  {
   "cell_type": "code",
   "execution_count": 4,
   "id": "5c948318-0b6b-4ada-9814-c9498d73d3ad",
   "metadata": {},
   "outputs": [],
   "source": [
    "def extract_features(detections):\n",
    "    features = []\n",
    "    for det in detections:\n",
    "        feature_vector = np.random.rand(128)  # Random 128-dimensional vector\n",
    "        features.append(feature_vector)\n",
    "    return features\n"
   ]
  },
  {
   "cell_type": "markdown",
   "id": "b1d54839-27eb-4304-a1bd-5f1432161670",
   "metadata": {},
   "source": [
    "5. Write a function to re-identify objects by matching feature vectors based on Euclidean distance. "
   ]
  },
  {
   "cell_type": "code",
   "execution_count": 5,
   "id": "99831ed2-b34f-4ced-ac94-260fe15ae05e",
   "metadata": {},
   "outputs": [],
   "source": [
    "from scipy.spatial.distance import euclidean\n",
    "\n",
    "def reidentify_objects(features1, features2, threshold=0.5):\n",
    "    matches = []\n",
    "    for i, f1 in enumerate(features1):\n",
    "        for j, f2 in enumerate(features2):\n",
    "            dist = euclidean(f1, f2)\n",
    "            if dist < threshold:\n",
    "                matches.append((i, j))\n",
    "    return matches\n"
   ]
  },
  {
   "cell_type": "markdown",
   "id": "a2b8062e-6490-47a9-9a47-0e7d980b6f8b",
   "metadata": {},
   "source": [
    "6. Write a function to track object positions using YOLO detections and a Kalman Filter. "
   ]
  },
  {
   "cell_type": "code",
   "execution_count": 6,
   "id": "fc110f8b-f377-4c23-90bc-243abcf9444e",
   "metadata": {},
   "outputs": [],
   "source": [
    "def track_objects(detections, kalman_filters):\n",
    "    tracks = []\n",
    "    for det, kf in zip(detections, kalman_filters):\n",
    "        kf.predict()\n",
    "        measurement = np.array([[det['box'][0]], [det['box'][1]]])\n",
    "        kf.update(measurement)\n",
    "        tracks.append(kf.x[:2])\n",
    "    return tracks\n"
   ]
  },
  {
   "cell_type": "markdown",
   "id": "4d7cf23a-ac57-4d6c-b406-d1ec983a28cb",
   "metadata": {},
   "source": [
    "7. Implement a simple Kalman Filter to track an object's position in a 2D space (simulate the object's movement with random noise)."
   ]
  },
  {
   "cell_type": "code",
   "execution_count": 8,
   "id": "84f8bb8e-54ff-4217-9ad4-ffeda807f65f",
   "metadata": {},
   "outputs": [
    {
     "data": {
      "image/png": "[encoded data removed]",
      "text/plain": [
       "<Figure size 1000x600 with 1 Axes>"
      ]
     },
     "metadata": {},
     "output_type": "display_data"
    }
   ],
   "source": [
    "class KalmanFilter:\n",
    "    def __init__(self, dt, state_dim, measurement_dim):\n",
    "        self.dt = dt\n",
    "        self.state_dim = state_dim\n",
    "        self.measurement_dim = measurement_dim\n",
    "        \n",
    "        # State vector\n",
    "        self.x = np.zeros((state_dim, 1))\n",
    "        \n",
    "        # State transition matrix\n",
    "        self.F = np.eye(state_dim)\n",
    "        for i in range(state_dim // 2):\n",
    "            self.F[i, i + state_dim // 2] = dt\n",
    "        \n",
    "        # Process covariance matrix\n",
    "        self.Q = np.eye(state_dim) * 0.01\n",
    "        \n",
    "        # Measurement matrix\n",
    "        self.H = np.zeros((measurement_dim, state_dim))\n",
    "        for i in range(measurement_dim):\n",
    "            self.H[i, i] = 1\n",
    "        \n",
    "        # Measurement noise covariance\n",
    "        self.R = np.eye(measurement_dim) * 0.1\n",
    "        \n",
    "        # Error covariance matrix\n",
    "        self.P = np.eye(state_dim) * 1\n",
    "\n",
    "    def predict(self):\n",
    "        self.x = np.dot(self.F, self.x)\n",
    "        self.P = np.dot(np.dot(self.F, self.P), self.F.T) + self.Q\n",
    "\n",
    "    def update(self, z):\n",
    "        y = z - np.dot(self.H, self.x)\n",
    "        S = np.dot(self.H, np.dot(self.P, self.H.T)) + self.R\n",
    "        K = np.dot(np.dot(self.P, self.H.T), np.linalg.inv(S))\n",
    "        self.x = self.x + np.dot(K, y)\n",
    "        self.P = self.P - np.dot(np.dot(K, self.H), self.P)\n",
    "\n",
    "def simulate_2d_tracking(num_steps=50, process_noise=0.1):\n",
    "    # Initialize Kalman Filter\n",
    "    kf = KalmanFilter(dt=1, state_dim=4, measurement_dim=2)\n",
    "    kf.x = np.array([[0], [0], [1], [1]])  # Initial position and velocity\n",
    "    \n",
    "    # Simulated ground truth and noisy measurements\n",
    "    ground_truth = []\n",
    "    measurements = []\n",
    "    predictions = []\n",
    "    \n",
    "    for step in range(num_steps):\n",
    "        # Simulate ground truth\n",
    "        true_position = np.array([[step * 1.0], [step * 1.5]])\n",
    "        ground_truth.append(true_position.flatten())\n",
    "        \n",
    "        # Add noise to measurements\n",
    "        measurement = true_position + np.random.randn(2, 1) * process_noise\n",
    "        measurements.append(measurement.flatten())\n",
    "        \n",
    "        # Kalman Filter prediction and update\n",
    "        kf.predict()\n",
    "        kf.update(measurement)\n",
    "        predictions.append(kf.x[:2].flatten())\n",
    "    \n",
    "    return ground_truth, measurements, predictions\n",
    "\n",
    "import matplotlib.pyplot as plt\n",
    "\n",
    "ground_truth, measurements, predictions = simulate_2d_tracking()\n",
    "\n",
    "# Plot results\n",
    "plt.figure(figsize=(10, 6))\n",
    "plt.plot([gt[0] for gt in ground_truth], [gt[1] for gt in ground_truth], label=\"Ground Truth\", color=\"green\")\n",
    "plt.scatter([m[0] for m in measurements], [m[1] for m in measurements], label=\"Measurements\", color=\"blue\", s=10)\n",
    "plt.plot([p[0] for p in predictions], [p[1] for p in predictions], label=\"Predictions\", color=\"red\")\n",
    "plt.legend()\n",
    "plt.xlabel(\"X Position\")\n",
    "plt.ylabel(\"Y Position\")\n",
    "plt.title(\"2D Object Tracking with Kalman Filter\")\n",
    "plt.show()\n"
   ]
  },
  {
   "cell_type": "code",
   "execution_count": null,
   "id": "8da040be-2b62-4d52-9229-71d59c02ae50",
   "metadata": {},
   "outputs": [],
   "source": []
  }
 ],
 "metadata": {
  "kernelspec": {
   "display_name": "Python 3 (ipykernel)",
   "language": "python",
   "name": "python3"
  },
  "language_info": {
   "codemirror_mode": {
    "name": "ipython",
    "version": 3
   },
   "file_extension": ".py",
   "mimetype": "text/x-python",
   "name": "python",
   "nbconvert_exporter": "python",
   "pygments_lexer": "ipython3",
   "version": "3.10.0"
  }
 },
 "nbformat": 4,
 "nbformat_minor": 5
}
